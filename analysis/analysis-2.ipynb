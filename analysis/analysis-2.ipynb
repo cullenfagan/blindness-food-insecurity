{
 "cells": [
  {
   "cell_type": "code",
   "execution_count": 1,
   "id": "085c1648",
   "metadata": {},
   "outputs": [],
   "source": [
    "#import lib\n",
    "import pandas as pd"
   ]
  },
  {
   "cell_type": "code",
   "execution_count": 4,
   "id": "e5394daa",
   "metadata": {},
   "outputs": [
    {
     "data": {
      "text/html": [
       "<div>\n",
       "<style scoped>\n",
       "    .dataframe tbody tr th:only-of-type {\n",
       "        vertical-align: middle;\n",
       "    }\n",
       "\n",
       "    .dataframe tbody tr th {\n",
       "        vertical-align: top;\n",
       "    }\n",
       "\n",
       "    .dataframe thead th {\n",
       "        text-align: right;\n",
       "    }\n",
       "</style>\n",
       "<table border=\"1\" class=\"dataframe\">\n",
       "  <thead>\n",
       "    <tr style=\"text-align: right;\">\n",
       "      <th></th>\n",
       "      <th>Age</th>\n",
       "      <th>Ratio</th>\n",
       "      <th>Status</th>\n",
       "      <th>Type</th>\n",
       "      <th>Pop</th>\n",
       "      <th>Error</th>\n",
       "    </tr>\n",
       "  </thead>\n",
       "  <tbody>\n",
       "    <tr>\n",
       "      <th>0</th>\n",
       "      <td>Total</td>\n",
       "      <td>Total</td>\n",
       "      <td>Total</td>\n",
       "      <td>Total</td>\n",
       "      <td>19163785</td>\n",
       "      <td>±6,102</td>\n",
       "    </tr>\n",
       "    <tr>\n",
       "      <th>1</th>\n",
       "      <td>Under 5 years:</td>\n",
       "      <td>Total</td>\n",
       "      <td>Total</td>\n",
       "      <td>Total</td>\n",
       "      <td>1032224</td>\n",
       "      <td>±3,908</td>\n",
       "    </tr>\n",
       "    <tr>\n",
       "      <th>2</th>\n",
       "      <td>Under 5 years:</td>\n",
       "      <td>Under .50:</td>\n",
       "      <td>Total</td>\n",
       "      <td>Total</td>\n",
       "      <td>110834</td>\n",
       "      <td>±7,931</td>\n",
       "    </tr>\n",
       "    <tr>\n",
       "      <th>3</th>\n",
       "      <td>Under 5 years:</td>\n",
       "      <td>Under .50:</td>\n",
       "      <td>With a disability:</td>\n",
       "      <td>Total</td>\n",
       "      <td>387</td>\n",
       "      <td>±361</td>\n",
       "    </tr>\n",
       "    <tr>\n",
       "      <th>4</th>\n",
       "      <td>Under 5 years:</td>\n",
       "      <td>Under .50:</td>\n",
       "      <td>With a disability:</td>\n",
       "      <td>With a hearing difficulty</td>\n",
       "      <td>49</td>\n",
       "      <td>±48</td>\n",
       "    </tr>\n",
       "    <tr>\n",
       "      <th>...</th>\n",
       "      <td>...</td>\n",
       "      <td>...</td>\n",
       "      <td>...</td>\n",
       "      <td>...</td>\n",
       "      <td>...</td>\n",
       "      <td>...</td>\n",
       "    </tr>\n",
       "    <tr>\n",
       "      <th>109</th>\n",
       "      <td>18 years and over:</td>\n",
       "      <td>2.00 and over:</td>\n",
       "      <td>With a disability:</td>\n",
       "      <td>With a cognitive difficulty</td>\n",
       "      <td>412301</td>\n",
       "      <td>±14,006</td>\n",
       "    </tr>\n",
       "    <tr>\n",
       "      <th>110</th>\n",
       "      <td>18 years and over:</td>\n",
       "      <td>2.00 and over:</td>\n",
       "      <td>With a disability:</td>\n",
       "      <td>With an ambulatory difficulty</td>\n",
       "      <td>663203</td>\n",
       "      <td>±17,181</td>\n",
       "    </tr>\n",
       "    <tr>\n",
       "      <th>111</th>\n",
       "      <td>18 years and over:</td>\n",
       "      <td>2.00 and over:</td>\n",
       "      <td>With a disability:</td>\n",
       "      <td>With a self-care difficulty</td>\n",
       "      <td>240844</td>\n",
       "      <td>±10,400</td>\n",
       "    </tr>\n",
       "    <tr>\n",
       "      <th>112</th>\n",
       "      <td>18 years and over:</td>\n",
       "      <td>2.00 and over:</td>\n",
       "      <td>With a disability:</td>\n",
       "      <td>With an independent living difficulty</td>\n",
       "      <td>485265</td>\n",
       "      <td>±12,438</td>\n",
       "    </tr>\n",
       "    <tr>\n",
       "      <th>113</th>\n",
       "      <td>18 years and over:</td>\n",
       "      <td>2.00 and over:</td>\n",
       "      <td>No disability</td>\n",
       "      <td>NaN</td>\n",
       "      <td>9938063</td>\n",
       "      <td>±49,571</td>\n",
       "    </tr>\n",
       "  </tbody>\n",
       "</table>\n",
       "<p>114 rows × 6 columns</p>\n",
       "</div>"
      ],
      "text/plain": [
       "                    Age           Ratio              Status  \\\n",
       "0                 Total           Total               Total   \n",
       "1        Under 5 years:           Total               Total   \n",
       "2        Under 5 years:      Under .50:               Total   \n",
       "3        Under 5 years:      Under .50:  With a disability:   \n",
       "4        Under 5 years:      Under .50:  With a disability:   \n",
       "..                  ...             ...                 ...   \n",
       "109  18 years and over:  2.00 and over:  With a disability:   \n",
       "110  18 years and over:  2.00 and over:  With a disability:   \n",
       "111  18 years and over:  2.00 and over:  With a disability:   \n",
       "112  18 years and over:  2.00 and over:  With a disability:   \n",
       "113  18 years and over:  2.00 and over:       No disability   \n",
       "\n",
       "                                      Type       Pop    Error  \n",
       "0                                    Total  19163785   ±6,102  \n",
       "1                                    Total   1032224   ±3,908  \n",
       "2                                    Total    110834   ±7,931  \n",
       "3                                    Total       387     ±361  \n",
       "4                With a hearing difficulty        49      ±48  \n",
       "..                                     ...       ...      ...  \n",
       "109            With a cognitive difficulty    412301  ±14,006  \n",
       "110          With an ambulatory difficulty    663203  ±17,181  \n",
       "111            With a self-care difficulty    240844  ±10,400  \n",
       "112  With an independent living difficulty    485265  ±12,438  \n",
       "113                                    NaN   9938063  ±49,571  \n",
       "\n",
       "[114 rows x 6 columns]"
      ]
     },
     "execution_count": 4,
     "metadata": {},
     "output_type": "execute_result"
    }
   ],
   "source": [
    "#read data set\n",
    "df = pd.read_csv(\"data/disability-poverty.csv\")\n",
    "df"
   ]
  },
  {
   "cell_type": "code",
   "execution_count": 7,
   "id": "1b12e14b",
   "metadata": {},
   "outputs": [
    {
     "data": {
      "text/html": [
       "<div>\n",
       "<style scoped>\n",
       "    .dataframe tbody tr th:only-of-type {\n",
       "        vertical-align: middle;\n",
       "    }\n",
       "\n",
       "    .dataframe tbody tr th {\n",
       "        vertical-align: top;\n",
       "    }\n",
       "\n",
       "    .dataframe thead th {\n",
       "        text-align: right;\n",
       "    }\n",
       "</style>\n",
       "<table border=\"1\" class=\"dataframe\">\n",
       "  <thead>\n",
       "    <tr style=\"text-align: right;\">\n",
       "      <th></th>\n",
       "      <th>Age</th>\n",
       "      <th>Ratio</th>\n",
       "      <th>Status</th>\n",
       "      <th>Type</th>\n",
       "      <th>Pop</th>\n",
       "      <th>Error</th>\n",
       "    </tr>\n",
       "  </thead>\n",
       "  <tbody>\n",
       "    <tr>\n",
       "      <th>2</th>\n",
       "      <td>Under 5 years:</td>\n",
       "      <td>Under .50:</td>\n",
       "      <td>Total</td>\n",
       "      <td>Total</td>\n",
       "      <td>110834</td>\n",
       "      <td>±7,931</td>\n",
       "    </tr>\n",
       "    <tr>\n",
       "      <th>3</th>\n",
       "      <td>Under 5 years:</td>\n",
       "      <td>Under .50:</td>\n",
       "      <td>With a disability:</td>\n",
       "      <td>Total</td>\n",
       "      <td>387</td>\n",
       "      <td>±361</td>\n",
       "    </tr>\n",
       "    <tr>\n",
       "      <th>4</th>\n",
       "      <td>Under 5 years:</td>\n",
       "      <td>Under .50:</td>\n",
       "      <td>With a disability:</td>\n",
       "      <td>With a hearing difficulty</td>\n",
       "      <td>49</td>\n",
       "      <td>±48</td>\n",
       "    </tr>\n",
       "    <tr>\n",
       "      <th>5</th>\n",
       "      <td>Under 5 years:</td>\n",
       "      <td>Under .50:</td>\n",
       "      <td>With a disability:</td>\n",
       "      <td>With a vision difficulty</td>\n",
       "      <td>338</td>\n",
       "      <td>±359</td>\n",
       "    </tr>\n",
       "    <tr>\n",
       "      <th>6</th>\n",
       "      <td>Under 5 years:</td>\n",
       "      <td>Under .50:</td>\n",
       "      <td>No disability</td>\n",
       "      <td>NaN</td>\n",
       "      <td>110447</td>\n",
       "      <td>±7,915</td>\n",
       "    </tr>\n",
       "    <tr>\n",
       "      <th>28</th>\n",
       "      <td>5 to 17 years:</td>\n",
       "      <td>Under .50:</td>\n",
       "      <td>Total</td>\n",
       "      <td>Total</td>\n",
       "      <td>280661</td>\n",
       "      <td>±16,198</td>\n",
       "    </tr>\n",
       "    <tr>\n",
       "      <th>29</th>\n",
       "      <td>5 to 17 years:</td>\n",
       "      <td>Under .50:</td>\n",
       "      <td>With a disability:</td>\n",
       "      <td>Total</td>\n",
       "      <td>28990</td>\n",
       "      <td>±3,945</td>\n",
       "    </tr>\n",
       "    <tr>\n",
       "      <th>30</th>\n",
       "      <td>5 to 17 years:</td>\n",
       "      <td>Under .50:</td>\n",
       "      <td>With a disability:</td>\n",
       "      <td>With a hearing difficulty</td>\n",
       "      <td>1871</td>\n",
       "      <td>±1,035</td>\n",
       "    </tr>\n",
       "    <tr>\n",
       "      <th>31</th>\n",
       "      <td>5 to 17 years:</td>\n",
       "      <td>Under .50:</td>\n",
       "      <td>With a disability:</td>\n",
       "      <td>With a vision difficulty</td>\n",
       "      <td>4895</td>\n",
       "      <td>±1,492</td>\n",
       "    </tr>\n",
       "    <tr>\n",
       "      <th>32</th>\n",
       "      <td>5 to 17 years:</td>\n",
       "      <td>Under .50:</td>\n",
       "      <td>With a disability:</td>\n",
       "      <td>With a cognitive difficulty</td>\n",
       "      <td>23754</td>\n",
       "      <td>±3,637</td>\n",
       "    </tr>\n",
       "    <tr>\n",
       "      <th>33</th>\n",
       "      <td>5 to 17 years:</td>\n",
       "      <td>Under .50:</td>\n",
       "      <td>With a disability:</td>\n",
       "      <td>With an ambulatory difficulty</td>\n",
       "      <td>2415</td>\n",
       "      <td>±1,150</td>\n",
       "    </tr>\n",
       "    <tr>\n",
       "      <th>34</th>\n",
       "      <td>5 to 17 years:</td>\n",
       "      <td>Under .50:</td>\n",
       "      <td>With a disability:</td>\n",
       "      <td>With a self-care difficulty</td>\n",
       "      <td>4644</td>\n",
       "      <td>±1,414</td>\n",
       "    </tr>\n",
       "    <tr>\n",
       "      <th>35</th>\n",
       "      <td>5 to 17 years:</td>\n",
       "      <td>Under .50:</td>\n",
       "      <td>No disability</td>\n",
       "      <td>NaN</td>\n",
       "      <td>251671</td>\n",
       "      <td>±15,616</td>\n",
       "    </tr>\n",
       "    <tr>\n",
       "      <th>69</th>\n",
       "      <td>18 years and over:</td>\n",
       "      <td>Under .50:</td>\n",
       "      <td>Total</td>\n",
       "      <td>Total</td>\n",
       "      <td>1036198</td>\n",
       "      <td>±25,948</td>\n",
       "    </tr>\n",
       "    <tr>\n",
       "      <th>70</th>\n",
       "      <td>18 years and over:</td>\n",
       "      <td>Under .50:</td>\n",
       "      <td>With a disability:</td>\n",
       "      <td>Total</td>\n",
       "      <td>262096</td>\n",
       "      <td>±10,870</td>\n",
       "    </tr>\n",
       "    <tr>\n",
       "      <th>71</th>\n",
       "      <td>18 years and over:</td>\n",
       "      <td>Under .50:</td>\n",
       "      <td>With a disability:</td>\n",
       "      <td>With a hearing difficulty</td>\n",
       "      <td>40495</td>\n",
       "      <td>±3,974</td>\n",
       "    </tr>\n",
       "    <tr>\n",
       "      <th>72</th>\n",
       "      <td>18 years and over:</td>\n",
       "      <td>Under .50:</td>\n",
       "      <td>With a disability:</td>\n",
       "      <td>With a vision difficulty</td>\n",
       "      <td>51313</td>\n",
       "      <td>±4,226</td>\n",
       "    </tr>\n",
       "    <tr>\n",
       "      <th>73</th>\n",
       "      <td>18 years and over:</td>\n",
       "      <td>Under .50:</td>\n",
       "      <td>With a disability:</td>\n",
       "      <td>With a cognitive difficulty</td>\n",
       "      <td>123427</td>\n",
       "      <td>±7,409</td>\n",
       "    </tr>\n",
       "    <tr>\n",
       "      <th>74</th>\n",
       "      <td>18 years and over:</td>\n",
       "      <td>Under .50:</td>\n",
       "      <td>With a disability:</td>\n",
       "      <td>With an ambulatory difficulty</td>\n",
       "      <td>145701</td>\n",
       "      <td>±7,849</td>\n",
       "    </tr>\n",
       "    <tr>\n",
       "      <th>75</th>\n",
       "      <td>18 years and over:</td>\n",
       "      <td>Under .50:</td>\n",
       "      <td>With a disability:</td>\n",
       "      <td>With a self-care difficulty</td>\n",
       "      <td>60717</td>\n",
       "      <td>±4,859</td>\n",
       "    </tr>\n",
       "    <tr>\n",
       "      <th>76</th>\n",
       "      <td>18 years and over:</td>\n",
       "      <td>Under .50:</td>\n",
       "      <td>With a disability:</td>\n",
       "      <td>With an independent living difficulty</td>\n",
       "      <td>120069</td>\n",
       "      <td>±7,014</td>\n",
       "    </tr>\n",
       "    <tr>\n",
       "      <th>77</th>\n",
       "      <td>18 years and over:</td>\n",
       "      <td>Under .50:</td>\n",
       "      <td>No disability</td>\n",
       "      <td>NaN</td>\n",
       "      <td>774102</td>\n",
       "      <td>±23,112</td>\n",
       "    </tr>\n",
       "  </tbody>\n",
       "</table>\n",
       "</div>"
      ],
      "text/plain": [
       "                   Age       Ratio              Status  \\\n",
       "2       Under 5 years:  Under .50:               Total   \n",
       "3       Under 5 years:  Under .50:  With a disability:   \n",
       "4       Under 5 years:  Under .50:  With a disability:   \n",
       "5       Under 5 years:  Under .50:  With a disability:   \n",
       "6       Under 5 years:  Under .50:       No disability   \n",
       "28      5 to 17 years:  Under .50:               Total   \n",
       "29      5 to 17 years:  Under .50:  With a disability:   \n",
       "30      5 to 17 years:  Under .50:  With a disability:   \n",
       "31      5 to 17 years:  Under .50:  With a disability:   \n",
       "32      5 to 17 years:  Under .50:  With a disability:   \n",
       "33      5 to 17 years:  Under .50:  With a disability:   \n",
       "34      5 to 17 years:  Under .50:  With a disability:   \n",
       "35      5 to 17 years:  Under .50:       No disability   \n",
       "69  18 years and over:  Under .50:               Total   \n",
       "70  18 years and over:  Under .50:  With a disability:   \n",
       "71  18 years and over:  Under .50:  With a disability:   \n",
       "72  18 years and over:  Under .50:  With a disability:   \n",
       "73  18 years and over:  Under .50:  With a disability:   \n",
       "74  18 years and over:  Under .50:  With a disability:   \n",
       "75  18 years and over:  Under .50:  With a disability:   \n",
       "76  18 years and over:  Under .50:  With a disability:   \n",
       "77  18 years and over:  Under .50:       No disability   \n",
       "\n",
       "                                     Type      Pop    Error  \n",
       "2                                   Total   110834   ±7,931  \n",
       "3                                   Total      387     ±361  \n",
       "4               With a hearing difficulty       49      ±48  \n",
       "5                With a vision difficulty      338     ±359  \n",
       "6                                     NaN   110447   ±7,915  \n",
       "28                                  Total   280661  ±16,198  \n",
       "29                                  Total    28990   ±3,945  \n",
       "30              With a hearing difficulty     1871   ±1,035  \n",
       "31               With a vision difficulty     4895   ±1,492  \n",
       "32            With a cognitive difficulty    23754   ±3,637  \n",
       "33          With an ambulatory difficulty     2415   ±1,150  \n",
       "34            With a self-care difficulty     4644   ±1,414  \n",
       "35                                    NaN   251671  ±15,616  \n",
       "69                                  Total  1036198  ±25,948  \n",
       "70                                  Total   262096  ±10,870  \n",
       "71              With a hearing difficulty    40495   ±3,974  \n",
       "72               With a vision difficulty    51313   ±4,226  \n",
       "73            With a cognitive difficulty   123427   ±7,409  \n",
       "74          With an ambulatory difficulty   145701   ±7,849  \n",
       "75            With a self-care difficulty    60717   ±4,859  \n",
       "76  With an independent living difficulty   120069   ±7,014  \n",
       "77                                    NaN   774102  ±23,112  "
      ]
     },
     "execution_count": 7,
     "metadata": {},
     "output_type": "execute_result"
    }
   ],
   "source": [
    "#filter for a ratio of less than 50% of income to poverty level\n",
    "dfs = df.query('Ratio == \"Under .50:\"')\n",
    "dfs"
   ]
  },
  {
   "cell_type": "code",
   "execution_count": 8,
   "id": "ace8c57e",
   "metadata": {},
   "outputs": [
    {
     "data": {
      "text/html": [
       "<div>\n",
       "<style scoped>\n",
       "    .dataframe tbody tr th:only-of-type {\n",
       "        vertical-align: middle;\n",
       "    }\n",
       "\n",
       "    .dataframe tbody tr th {\n",
       "        vertical-align: top;\n",
       "    }\n",
       "\n",
       "    .dataframe thead th {\n",
       "        text-align: right;\n",
       "    }\n",
       "</style>\n",
       "<table border=\"1\" class=\"dataframe\">\n",
       "  <thead>\n",
       "    <tr style=\"text-align: right;\">\n",
       "      <th></th>\n",
       "      <th>Age</th>\n",
       "      <th>Ratio</th>\n",
       "      <th>Status</th>\n",
       "      <th>Type</th>\n",
       "      <th>Pop</th>\n",
       "      <th>Error</th>\n",
       "    </tr>\n",
       "  </thead>\n",
       "  <tbody>\n",
       "    <tr>\n",
       "      <th>5</th>\n",
       "      <td>Under 5 years:</td>\n",
       "      <td>Under .50:</td>\n",
       "      <td>With a disability:</td>\n",
       "      <td>With a vision difficulty</td>\n",
       "      <td>338</td>\n",
       "      <td>±359</td>\n",
       "    </tr>\n",
       "    <tr>\n",
       "      <th>31</th>\n",
       "      <td>5 to 17 years:</td>\n",
       "      <td>Under .50:</td>\n",
       "      <td>With a disability:</td>\n",
       "      <td>With a vision difficulty</td>\n",
       "      <td>4895</td>\n",
       "      <td>±1,492</td>\n",
       "    </tr>\n",
       "    <tr>\n",
       "      <th>72</th>\n",
       "      <td>18 years and over:</td>\n",
       "      <td>Under .50:</td>\n",
       "      <td>With a disability:</td>\n",
       "      <td>With a vision difficulty</td>\n",
       "      <td>51313</td>\n",
       "      <td>±4,226</td>\n",
       "    </tr>\n",
       "  </tbody>\n",
       "</table>\n",
       "</div>"
      ],
      "text/plain": [
       "                   Age       Ratio              Status  \\\n",
       "5       Under 5 years:  Under .50:  With a disability:   \n",
       "31      5 to 17 years:  Under .50:  With a disability:   \n",
       "72  18 years and over:  Under .50:  With a disability:   \n",
       "\n",
       "                        Type    Pop   Error  \n",
       "5   With a vision difficulty    338    ±359  \n",
       "31  With a vision difficulty   4895  ±1,492  \n",
       "72  With a vision difficulty  51313  ±4,226  "
      ]
     },
     "execution_count": 8,
     "metadata": {},
     "output_type": "execute_result"
    }
   ],
   "source": [
    "#filter for vision issues\n",
    "#filter under .5\n",
    "dfs_v = dfs.query('Type == \"With a vision difficulty\"')\n",
    "dfs_v"
   ]
  },
  {
   "cell_type": "code",
   "execution_count": 27,
   "id": "30f0d098",
   "metadata": {},
   "outputs": [
    {
     "data": {
      "text/plain": [
       "56546"
      ]
     },
     "execution_count": 27,
     "metadata": {},
     "output_type": "execute_result"
    }
   ],
   "source": [
    "#find vision sum \n",
    "v_sum = dfs_v[\"Pop\"].sum()\n",
    "v_sum"
   ]
  },
  {
   "cell_type": "code",
   "execution_count": 28,
   "id": "070ac800",
   "metadata": {},
   "outputs": [
    {
     "data": {
      "text/html": [
       "<div>\n",
       "<style scoped>\n",
       "    .dataframe tbody tr th:only-of-type {\n",
       "        vertical-align: middle;\n",
       "    }\n",
       "\n",
       "    .dataframe tbody tr th {\n",
       "        vertical-align: top;\n",
       "    }\n",
       "\n",
       "    .dataframe thead th {\n",
       "        text-align: right;\n",
       "    }\n",
       "</style>\n",
       "<table border=\"1\" class=\"dataframe\">\n",
       "  <thead>\n",
       "    <tr style=\"text-align: right;\">\n",
       "      <th></th>\n",
       "      <th>Age</th>\n",
       "      <th>Ratio</th>\n",
       "      <th>Status</th>\n",
       "      <th>Type</th>\n",
       "      <th>Pop</th>\n",
       "      <th>Error</th>\n",
       "    </tr>\n",
       "  </thead>\n",
       "  <tbody>\n",
       "    <tr>\n",
       "      <th>4</th>\n",
       "      <td>Under 5 years:</td>\n",
       "      <td>Under .50:</td>\n",
       "      <td>With a disability:</td>\n",
       "      <td>With a hearing difficulty</td>\n",
       "      <td>49</td>\n",
       "      <td>±48</td>\n",
       "    </tr>\n",
       "    <tr>\n",
       "      <th>30</th>\n",
       "      <td>5 to 17 years:</td>\n",
       "      <td>Under .50:</td>\n",
       "      <td>With a disability:</td>\n",
       "      <td>With a hearing difficulty</td>\n",
       "      <td>1871</td>\n",
       "      <td>±1,035</td>\n",
       "    </tr>\n",
       "    <tr>\n",
       "      <th>71</th>\n",
       "      <td>18 years and over:</td>\n",
       "      <td>Under .50:</td>\n",
       "      <td>With a disability:</td>\n",
       "      <td>With a hearing difficulty</td>\n",
       "      <td>40495</td>\n",
       "      <td>±3,974</td>\n",
       "    </tr>\n",
       "  </tbody>\n",
       "</table>\n",
       "</div>"
      ],
      "text/plain": [
       "                   Age       Ratio              Status  \\\n",
       "4       Under 5 years:  Under .50:  With a disability:   \n",
       "30      5 to 17 years:  Under .50:  With a disability:   \n",
       "71  18 years and over:  Under .50:  With a disability:   \n",
       "\n",
       "                         Type    Pop   Error  \n",
       "4   With a hearing difficulty     49     ±48  \n",
       "30  With a hearing difficulty   1871  ±1,035  \n",
       "71  With a hearing difficulty  40495  ±3,974  "
      ]
     },
     "execution_count": 28,
     "metadata": {},
     "output_type": "execute_result"
    }
   ],
   "source": [
    "#filter for hearing issues \n",
    "dfs_h = dfs.query('Type == \"With a hearing difficulty\"')\n",
    "dfs_h"
   ]
  },
  {
   "cell_type": "code",
   "execution_count": 29,
   "id": "64cb3198",
   "metadata": {},
   "outputs": [
    {
     "data": {
      "text/plain": [
       "42415"
      ]
     },
     "execution_count": 29,
     "metadata": {},
     "output_type": "execute_result"
    }
   ],
   "source": [
    "#find hearing sum\n",
    "h_sum = dfs_h[\"Pop\"].sum()\n",
    "h_sum"
   ]
  },
  {
   "cell_type": "code",
   "execution_count": 30,
   "id": "05720acb",
   "metadata": {},
   "outputs": [
    {
     "data": {
      "text/plain": [
       "1136220"
      ]
     },
     "execution_count": 30,
     "metadata": {},
     "output_type": "execute_result"
    }
   ],
   "source": [
    "#find non-disabled sum \n",
    "dfs_a = dfs.query('Status == \"No disability\"')\n",
    "dfs_a\n",
    "a_sum = dfs_a[\"Pop\"].sum()\n",
    "a_sum"
   ]
  },
  {
   "cell_type": "code",
   "execution_count": 41,
   "id": "053ce7ac",
   "metadata": {},
   "outputs": [
    {
     "data": {
      "text/plain": [
       "1659362"
      ]
     },
     "execution_count": 41,
     "metadata": {},
     "output_type": "execute_result"
    }
   ],
   "source": [
    "#find no vision issues sum\n",
    "#get rid of totals\n",
    "dft = dfs.query('Type != \"Total\"')\n",
    "dft\n",
    "dfs_n = dft.query('Type != \"With a vision difficulty\"')\n",
    "dfs_n\n",
    "nv_sum = dfs_n[\"Pop\"].sum()\n",
    "nv_sum"
   ]
  },
  {
   "cell_type": "code",
   "execution_count": 23,
   "id": "a2157954",
   "metadata": {},
   "outputs": [
    {
     "data": {
      "text/html": [
       "<div>\n",
       "<style scoped>\n",
       "    .dataframe tbody tr th:only-of-type {\n",
       "        vertical-align: middle;\n",
       "    }\n",
       "\n",
       "    .dataframe tbody tr th {\n",
       "        vertical-align: top;\n",
       "    }\n",
       "\n",
       "    .dataframe thead th {\n",
       "        text-align: right;\n",
       "    }\n",
       "</style>\n",
       "<table border=\"1\" class=\"dataframe\">\n",
       "  <thead>\n",
       "    <tr style=\"text-align: right;\">\n",
       "      <th></th>\n",
       "      <th>Status</th>\n",
       "      <th>Pop</th>\n",
       "      <th>Error</th>\n",
       "    </tr>\n",
       "  </thead>\n",
       "  <tbody>\n",
       "    <tr>\n",
       "      <th>0</th>\n",
       "      <td>Total:</td>\n",
       "      <td>19,475,046</td>\n",
       "      <td>±2,907</td>\n",
       "    </tr>\n",
       "    <tr>\n",
       "      <th>1</th>\n",
       "      <td>With a disability:</td>\n",
       "      <td>2,508,047</td>\n",
       "      <td>±34,528</td>\n",
       "    </tr>\n",
       "    <tr>\n",
       "      <th>2</th>\n",
       "      <td>With a hearing difficulty</td>\n",
       "      <td>592,477</td>\n",
       "      <td>±13,162</td>\n",
       "    </tr>\n",
       "    <tr>\n",
       "      <th>3</th>\n",
       "      <td>With a vision difficulty</td>\n",
       "      <td>447,623</td>\n",
       "      <td>±15,079</td>\n",
       "    </tr>\n",
       "    <tr>\n",
       "      <th>4</th>\n",
       "      <td>With a cognitive difficulty</td>\n",
       "      <td>997,333</td>\n",
       "      <td>±23,979</td>\n",
       "    </tr>\n",
       "    <tr>\n",
       "      <th>5</th>\n",
       "      <td>With an ambulatory difficulty</td>\n",
       "      <td>1,289,168</td>\n",
       "      <td>±21,939</td>\n",
       "    </tr>\n",
       "    <tr>\n",
       "      <th>6</th>\n",
       "      <td>With a self-care difficulty</td>\n",
       "      <td>542,024</td>\n",
       "      <td>±15,310</td>\n",
       "    </tr>\n",
       "    <tr>\n",
       "      <th>7</th>\n",
       "      <td>With an independent living difficulty</td>\n",
       "      <td>1,011,062</td>\n",
       "      <td>±19,636</td>\n",
       "    </tr>\n",
       "    <tr>\n",
       "      <th>8</th>\n",
       "      <td>No disability</td>\n",
       "      <td>16,966,999</td>\n",
       "      <td>±34,477</td>\n",
       "    </tr>\n",
       "  </tbody>\n",
       "</table>\n",
       "</div>"
      ],
      "text/plain": [
       "                                          Status         Pop    Error\n",
       "0                                         Total:  19,475,046   ±2,907\n",
       "1                             With a disability:   2,508,047  ±34,528\n",
       "2                      With a hearing difficulty     592,477  ±13,162\n",
       "3                       With a vision difficulty     447,623  ±15,079\n",
       "4                    With a cognitive difficulty     997,333  ±23,979\n",
       "5                  With an ambulatory difficulty   1,289,168  ±21,939\n",
       "6                    With a self-care difficulty     542,024  ±15,310\n",
       "7          With an independent living difficulty   1,011,062  ±19,636\n",
       "8                                  No disability  16,966,999  ±34,477"
      ]
     },
     "execution_count": 23,
     "metadata": {},
     "output_type": "execute_result"
    }
   ],
   "source": [
    "#read total population numbers\n",
    "dfe = pd.read_csv(\"data/disability-types.csv\")\n",
    "dfe "
   ]
  },
  {
   "cell_type": "code",
   "execution_count": 42,
   "id": "7806655c",
   "metadata": {},
   "outputs": [
    {
     "data": {
      "text/plain": [
       "19027423"
      ]
     },
     "execution_count": 42,
     "metadata": {},
     "output_type": "execute_result"
    }
   ],
   "source": [
    "#save total population numbers\n",
    "v_pop = 447623\n",
    "h_pop = 592477\n",
    "a_pop = 16966999\n",
    "total_pop = 19475046\n",
    "nv_pop = total_pop - v_pop\n",
    "nv_pop"
   ]
  },
  {
   "cell_type": "code",
   "execution_count": 33,
   "id": "095aafd6",
   "metadata": {},
   "outputs": [
    {
     "data": {
      "text/plain": [
       "12.63"
      ]
     },
     "execution_count": 33,
     "metadata": {},
     "output_type": "execute_result"
    }
   ],
   "source": [
    "#calc vision percentage\n",
    "v_per = round((v_sum/v_pop)*100, 2)\n",
    "v_per"
   ]
  },
  {
   "cell_type": "code",
   "execution_count": 34,
   "id": "369d2c53",
   "metadata": {},
   "outputs": [
    {
     "data": {
      "text/plain": [
       "7.16"
      ]
     },
     "execution_count": 34,
     "metadata": {},
     "output_type": "execute_result"
    }
   ],
   "source": [
    "#calc vision percentage\n",
    "h_per = round((h_sum/h_pop)*100, 2)\n",
    "h_per"
   ]
  },
  {
   "cell_type": "code",
   "execution_count": 32,
   "id": "8b798703",
   "metadata": {},
   "outputs": [
    {
     "data": {
      "text/plain": [
       "6.7"
      ]
     },
     "execution_count": 32,
     "metadata": {},
     "output_type": "execute_result"
    }
   ],
   "source": [
    "#calc abled percentage\n",
    "a_per = round((a_sum/a_pop)*100, 2)\n",
    "a_per"
   ]
  },
  {
   "cell_type": "code",
   "execution_count": 43,
   "id": "8e375015",
   "metadata": {},
   "outputs": [
    {
     "data": {
      "text/plain": [
       "8.72"
      ]
     },
     "execution_count": 43,
     "metadata": {},
     "output_type": "execute_result"
    }
   ],
   "source": [
    "#calc nv percentage\n",
    "nv_per = round((nv_sum/nv_pop)*100, 2)\n",
    "nv_per"
   ]
  },
  {
   "cell_type": "code",
   "execution_count": 44,
   "id": "90362199",
   "metadata": {},
   "outputs": [
    {
     "name": "stdout",
     "output_type": "stream",
     "text": [
      "In New York state, blind people are 1.76x more likely than hearing people to be more than 50% below the poverty line.\n"
     ]
    }
   ],
   "source": [
    "#calc vision:hearing ratio\n",
    "h_ratio = round(v_per/h_per, 2)\n",
    "print(f\"In New York state, blind people are {h_ratio}x more likely than hearing people to be more than 50% below the poverty line.\")"
   ]
  },
  {
   "cell_type": "code",
   "execution_count": 46,
   "id": "97f564b4",
   "metadata": {},
   "outputs": [
    {
     "name": "stdout",
     "output_type": "stream",
     "text": [
      "In New York state, blind people are 1.89x more likely than abled people to be more than 50% below the poverty line.\n"
     ]
    }
   ],
   "source": [
    "#calc vision:abled ratio\n",
    "a_ratio = round(v_per/a_per, 2)\n",
    "print(f\"In New York state, blind people are {a_ratio}x more likely than abled people to be more than 50% below the poverty line.\")"
   ]
  },
  {
   "cell_type": "code",
   "execution_count": 47,
   "id": "fc8af0ea",
   "metadata": {},
   "outputs": [
    {
     "name": "stdout",
     "output_type": "stream",
     "text": [
      "In New York state, blind people are 1.45x more likely than people without vision issues to be more than 50% below the poverty line.\n"
     ]
    }
   ],
   "source": [
    "#calc vision:nv ratio\n",
    "nv_ratio = round(v_per/nv_per, 2)\n",
    "print(f\"In New York state, blind people are {nv_ratio}x more likely than people without vision issues to be more than 50% below the poverty line.\")"
   ]
  },
  {
   "cell_type": "code",
   "execution_count": null,
   "id": "3087735a",
   "metadata": {},
   "outputs": [],
   "source": []
  }
 ],
 "metadata": {
  "kernelspec": {
   "display_name": "Python 3 (ipykernel)",
   "language": "python",
   "name": "python3"
  },
  "language_info": {
   "codemirror_mode": {
    "name": "ipython",
    "version": 3
   },
   "file_extension": ".py",
   "mimetype": "text/x-python",
   "name": "python",
   "nbconvert_exporter": "python",
   "pygments_lexer": "ipython3",
   "version": "3.11.5"
  }
 },
 "nbformat": 4,
 "nbformat_minor": 5
}
